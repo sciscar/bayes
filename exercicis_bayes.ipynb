{
 "cells": [
  {
   "cell_type": "code",
   "execution_count": null,
   "metadata": {},
   "outputs": [],
   "source": []
  },
  {
   "cell_type": "markdown",
   "metadata": {},
   "source": [
    "# Exercicis de Bayes"
   ]
  },
  {
   "cell_type": "markdown",
   "metadata": {},
   "source": [
    "## Exercici 1\n",
    "En una classe hi ha 60 estudiants, dels quals 40 són dones i 20 són homes. Es sap que el 70% de les dones i el 50% dels homes aproven un examen. Quina és la probabilitat que un estudiant escollit a l'atzar sigui dona i hagi aprovat l'examen? Quina és la probabilitat que un estudiant hagi aprovat l'examen, donat que és dona?\n",
    "\n"
   ]
  },
  {
   "cell_type": "code",
   "execution_count": null,
   "metadata": {},
   "outputs": [],
   "source": [
    "???"
   ]
  },
  {
   "cell_type": "markdown",
   "metadata": {},
   "source": [
    "## Exercici 2\n",
    "Un home té una malaltia que afecta el 2% de la població. Un test mèdic detecta la malaltia el 90% de les vegades que la persona la té, i el 10% de les vegades que la persona no la té, dóna un fals positiu. Quina és la probabilitat que l'home tingui la malaltia, donat que el test ha donat positiu? Quina és la probabilitat que l'home tingui la malaltia, donat que el test ha donat negatiu?"
   ]
  },
  {
   "cell_type": "code",
   "execution_count": null,
   "metadata": {},
   "outputs": [],
   "source": [
    "???"
   ]
  },
  {
   "cell_type": "markdown",
   "metadata": {},
   "source": [
    "## Exercici 3\n",
    "\n",
    "Uns alumnes de l'assignatura de probabilitat han fet un examen. El 60% dels alumnes han aprovat l'examen. Si un alumne ha aprovat l'examen, la probabilitat que hagi assistit a classe és del 80%. Si un alumne no ha aprovat l'examen, la probabilitat que no hagi assistit a classe és del 90%. Quina és la probabilitat que un alumne hagi assistit a classe, donat que ha aprovat l'examen? Quina és la probabilitat que un alumne hagi assistit a classe, donat que no ha aprovat l'examen?"
   ]
  },
  {
   "cell_type": "code",
   "execution_count": null,
   "metadata": {},
   "outputs": [],
   "source": [
    "???"
   ]
  },
  {
   "cell_type": "markdown",
   "metadata": {},
   "source": [
    "## Exercici 4\n",
    "\n",
    "En una classe de 30 estudiants, 18 han aprovat matemàtiques i 15 han aprovat física. Si 10 estudiants han aprovat ambdues assignatures, calcula la probabilitat que un estudiant seleccionat a l'atzar hagi aprovat física, donat que ha aprovat matemàtiques."
   ]
  },
  {
   "cell_type": "code",
   "execution_count": null,
   "metadata": {},
   "outputs": [],
   "source": [
    "???"
   ]
  },
  {
   "cell_type": "markdown",
   "metadata": {},
   "source": [
    "## Exercici 5\n",
    "\n",
    "Una fàbrica produeix peces en tres màquines diferents:\n",
    "\n",
    "La màquina A produeix el 50% de les peces.\n",
    "La màquina B produeix el 30% de les peces.\n",
    "La màquina C produeix el 20% de les peces.\n",
    "El percentatge de peces defectuoses és diferent per a cada màquina:\n",
    "\n",
    "La màquina A produeix un 5% de peces defectuoses.\n",
    "La màquina B produeix un 3% de peces defectuoses.\n",
    "La màquina C produeix un 10% de peces defectuoses.\n",
    "Una peça seleccionada a l'atzar resulta ser defectuosa. Calcula la probabilitat que aquesta peça hagi estat produïda per la màquina A, B o C."
   ]
  },
  {
   "cell_type": "code",
   "execution_count": null,
   "metadata": {},
   "outputs": [],
   "source": [
    "???"
   ]
  },
  {
   "cell_type": "markdown",
   "metadata": {},
   "source": [
    "## Exercici 6\n",
    "En una universitat, el 30% dels estudiants estudien enginyeria, el 20% estudien ciències socials i el 50% estudien altres carreres. Es sap que el 40% dels estudiants d'enginyeria tenen una beca, el 25% dels estudiants de ciències socials tenen una beca, i el 10% dels estudiants d'altres carreres tenen una beca. Quina és la probabilitat que un estudiant seleccionat a l'atzar tingui una beca? Quina és la probabilitat que un estudiant tingui una beca, donat que estudia enginyeria?\n"
   ]
  },
  {
   "cell_type": "code",
   "execution_count": null,
   "metadata": {},
   "outputs": [],
   "source": [
    "???"
   ]
  },
  {
   "cell_type": "markdown",
   "metadata": {},
   "source": [
    "## Exercici 7\n",
    "En una ciutat, el 5% de la població està infectada per un cert virus. Un test de diagnòstic per a aquest virus té una sensibilitat del 95% (probabilitat de donar positiu si la persona està infectada) i una especificitat del 90% (probabilitat de donar negatiu si la persona no està infectada). Si una persona seleccionada a l'atzar dóna positiu en el test, quina és la probabilitat que estigui realment infectada pel virus? Quina és la probabilitat que no estigui infectada pel virus?"
   ]
  },
  {
   "cell_type": "code",
   "execution_count": null,
   "metadata": {},
   "outputs": [],
   "source": [
    "???"
   ]
  },
  {
   "cell_type": "markdown",
   "metadata": {},
   "source": [
    "## Exercici 8\n",
    "En una fàbrica, hi ha tres tipus de màquines que produeixen peces: M1, M2 i M3. Les màquines M1, M2 i M3 produeixen el 40%, 35% i 25% de les peces, respectivament. La probabilitat que una peça sigui defectuosa és del 2% per M1, del 3% per M2 i del 5% per M3. Si una peça seleccionada a l'atzar és defectuosa, quina és la probabilitat que hagi estat produïda per la màquina M2?"
   ]
  },
  {
   "cell_type": "code",
   "execution_count": null,
   "metadata": {},
   "outputs": [],
   "source": [
    "???"
   ]
  },
  {
   "cell_type": "markdown",
   "metadata": {},
   "source": [
    "## Exercici 9\n",
    "Un estudi revela que el 10% dels conductors d'una ciutat superen el límit de velocitat en una carretera principal. Els radars de trànsit són capaços de detectar els conductors que superen el límit de velocitat el 80% de les vegades, però també donen falsos positius el 5% de les vegades (és a dir, detecten com a infractors conductors que no superen el límit de velocitat). Si un conductor és detectat com a infractor per un radar, quina és la probabilitat que realment hagi superat el límit de velocitat?\n"
   ]
  },
  {
   "cell_type": "code",
   "execution_count": null,
   "metadata": {},
   "outputs": [],
   "source": [
    "???"
   ]
  },
  {
   "cell_type": "markdown",
   "metadata": {},
   "source": [
    "## Exercici 10\n",
    "Un estudiant té dues caixes de caramels: la caixa A i la caixa B. La caixa A conté 30 caramels, dels quals 20 són de menta i 10 són de xocolata. La caixa B conté 40 caramels, dels quals 10 són de menta i 30 són de xocolata. L'estudiant selecciona una caixa a l'atzar i després tria un caramel\n"
   ]
  },
  {
   "cell_type": "code",
   "execution_count": null,
   "metadata": {},
   "outputs": [],
   "source": [
    "???"
   ]
  }
 ],
 "metadata": {
  "language_info": {
   "name": "python"
  }
 },
 "nbformat": 4,
 "nbformat_minor": 2
}
